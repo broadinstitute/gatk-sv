{
 "metadata": {
  "language_info": {
   "codemirror_mode": {
    "name": "ipython",
    "version": 3
   },
   "file_extension": ".py",
   "mimetype": "text/x-python",
   "name": "python",
   "nbconvert_exporter": "python",
   "pygments_lexer": "ipython3",
   "version": "3.8.5"
  },
  "orig_nbformat": 2,
  "kernelspec": {
   "name": "python385jvsc74a57bd0aee8b7b246df8f9039afb4144a1f6fd8d2ca17a180786b69acc140d282b71a49",
   "display_name": "Python 3.8.5 64-bit"
  },
  "metadata": {
   "interpreter": {
    "hash": "aee8b7b246df8f9039afb4144a1f6fd8d2ca17a180786b69acc140d282b71a49"
   }
  }
 },
 "nbformat": 4,
 "nbformat_minor": 2,
 "cells": [
  {
   "cell_type": "code",
   "execution_count": null,
   "metadata": {},
   "outputs": [],
   "source": [
    "# Control block\n",
    "carrot_download_results = True\n",
    "carrot_download_inputs = False"
   ]
  },
  {
   "cell_type": "code",
   "execution_count": null,
   "metadata": {},
   "outputs": [],
   "source": [
    "import csv\n",
    "\n",
    "# Load data and comparison files\n",
    "data = [[], []]\n",
    "with open(carrot_downloads[\"results\"][\"example data file\"]) as data_file:\n",
    "    data_csv = csv.reader(data_file)\n",
    "    for row in data_csv:\n",
    "        if len(row) > 1:\n",
    "            data[0].append(float(row[0]))\n",
    "            data[1].append(float(row[1]))\n",
    "\n",
    "comparison = [[], []]\n",
    "with open(carrot_downloads[\"results\"][\"example comparison file\"]) as comparison_file:\n",
    "    comparison_csv = csv.reader(comparison_file)\n",
    "    for row in comparison_csv:\n",
    "        if len(row) > 1:\n",
    "            comparison[0].append(float(row[0]))\n",
    "            comparison[1].append(float(row[1]))\n",
    "\n",
    "# Prepare the default data\n",
    "default = [[], []]\n",
    "for i in range(0, 21, 1):\n",
    "    default[0].append(i/10.0)\n",
    "    default[1].append(pow(2, i/10.0))"
   ]
  },
  {
   "cell_type": "code",
   "execution_count": null,
   "metadata": {},
   "outputs": [],
   "source": [
    "import numpy as np\n",
    "import matplotlib.pyplot as plt\n",
    "import math\n",
    "\n",
    "fig, ax = plt.subplots()\n",
    "# Plot data first\n",
    "ax.scatter(data[0], data[1], c='tab:blue', label=\"data\")\n",
    "# Then comparison\n",
    "ax.scatter(comparison[0], comparison[1], c='tab:green', label=\"diff\")\n",
    "# Finally the default that was compared against\n",
    "ax.scatter(default[0], default[1], c='tab:red', label=\"default\")\n",
    "\n",
    "ax.legend()\n",
    "ax.grid(True)\n",
    "\n",
    "y_vals = data[1] + comparison[1] + default[1]\n",
    "y_max = math.ceil(max(y_vals))\n",
    "plt.xticks(np.arange(0, 2.0, 0.2))\n",
    "plt.yticks(np.arange(0, y_max, y_max/10.0))\n",
    "\n",
    "plt.show()"
   ]
  }
 ]
}